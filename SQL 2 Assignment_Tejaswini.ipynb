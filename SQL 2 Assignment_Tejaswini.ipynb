{
 "cells": [
  {
   "cell_type": "code",
   "execution_count": 1,
   "metadata": {},
   "outputs": [],
   "source": [
    "import sqlalchemy\n",
    "import pandas as pd\n",
    "from sqlalchemy import create_engine\n",
    "\n",
    "df = pd.read_csv('https://archive.ics.uci.edu/ml/machine-learning-databases/adult/adult.data',sep=\",\",header=None)\n",
    "df.columns=['age','workclass','fnlwgt','education','educationNum','marital-status','occupation','relationship','race','sex','capital-gain','capital-loss','hours-per-week','native-country','income']\n"
   ]
  },
  {
   "cell_type": "code",
   "execution_count": 2,
   "metadata": {},
   "outputs": [
    {
     "name": "stdout",
     "output_type": "stream",
     "text": [
      "2018-12-10 18:00:44,341 INFO sqlalchemy.engine.base.Engine SELECT CAST('test plain returns' AS VARCHAR(60)) AS anon_1\n",
      "2018-12-10 18:00:44,391 INFO sqlalchemy.engine.base.Engine ()\n",
      "2018-12-10 18:00:44,401 INFO sqlalchemy.engine.base.Engine SELECT CAST('test unicode returns' AS VARCHAR(60)) AS anon_1\n",
      "2018-12-10 18:00:44,408 INFO sqlalchemy.engine.base.Engine ()\n",
      "2018-12-10 18:00:44,421 INFO sqlalchemy.engine.base.Engine PRAGMA table_info(\"adult\")\n",
      "2018-12-10 18:00:44,428 INFO sqlalchemy.engine.base.Engine ()\n",
      "2018-12-10 18:00:44,453 INFO sqlalchemy.engine.base.Engine \n",
      "CREATE TABLE adult (\n",
      "\t\"index\" BIGINT, \n",
      "\tage BIGINT, \n",
      "\tworkclass TEXT, \n",
      "\tfnlwgt BIGINT, \n",
      "\teducation TEXT, \n",
      "\t\"educationNum\" BIGINT, \n",
      "\t\"marital-status\" TEXT, \n",
      "\toccupation TEXT, \n",
      "\trelationship TEXT, \n",
      "\trace TEXT, \n",
      "\tsex TEXT, \n",
      "\t\"capital-gain\" BIGINT, \n",
      "\t\"capital-loss\" BIGINT, \n",
      "\t\"hours-per-week\" BIGINT, \n",
      "\t\"native-country\" TEXT, \n",
      "\tincome TEXT\n",
      ")\n",
      "\n",
      "\n",
      "2018-12-10 18:00:44,458 INFO sqlalchemy.engine.base.Engine ()\n",
      "2018-12-10 18:00:44,557 INFO sqlalchemy.engine.base.Engine COMMIT\n",
      "2018-12-10 18:00:44,566 INFO sqlalchemy.engine.base.Engine CREATE INDEX ix_adult_index ON adult (\"index\")\n",
      "2018-12-10 18:00:44,573 INFO sqlalchemy.engine.base.Engine ()\n",
      "2018-12-10 18:00:44,701 INFO sqlalchemy.engine.base.Engine COMMIT\n",
      "2018-12-10 18:00:44,816 INFO sqlalchemy.engine.base.Engine BEGIN (implicit)\n",
      "2018-12-10 18:00:48,123 INFO sqlalchemy.engine.base.Engine INSERT INTO adult (\"index\", age, workclass, fnlwgt, education, \"educationNum\", \"marital-status\", occupation, relationship, race, sex, \"capital-gain\", \"capital-loss\", \"hours-per-week\", \"native-country\", income) VALUES (?, ?, ?, ?, ?, ?, ?, ?, ?, ?, ?, ?, ?, ?, ?, ?)\n",
      "2018-12-10 18:00:48,128 INFO sqlalchemy.engine.base.Engine ((0, 39, ' State-gov', 77516, ' Bachelors', 13, ' Never-married', ' Adm-clerical', ' Not-in-family', ' White', ' Male', 2174, 0, 40, ' United-States', ' <=50K'), (1, 50, ' Self-emp-not-inc', 83311, ' Bachelors', 13, ' Married-civ-spouse', ' Exec-managerial', ' Husband', ' White', ' Male', 0, 0, 13, ' United-States', ' <=50K'), (2, 38, ' Private', 215646, ' HS-grad', 9, ' Divorced', ' Handlers-cleaners', ' Not-in-family', ' White', ' Male', 0, 0, 40, ' United-States', ' <=50K'), (3, 53, ' Private', 234721, ' 11th', 7, ' Married-civ-spouse', ' Handlers-cleaners', ' Husband', ' Black', ' Male', 0, 0, 40, ' United-States', ' <=50K'), (4, 28, ' Private', 338409, ' Bachelors', 13, ' Married-civ-spouse', ' Prof-specialty', ' Wife', ' Black', ' Female', 0, 0, 40, ' Cuba', ' <=50K'), (5, 37, ' Private', 284582, ' Masters', 14, ' Married-civ-spouse', ' Exec-managerial', ' Wife', ' White', ' Female', 0, 0, 40, ' United-States', ' <=50K'), (6, 49, ' Private', 160187, ' 9th', 5, ' Married-spouse-absent', ' Other-service', ' Not-in-family', ' Black', ' Female', 0, 0, 16, ' Jamaica', ' <=50K'), (7, 52, ' Self-emp-not-inc', 209642, ' HS-grad', 9, ' Married-civ-spouse', ' Exec-managerial', ' Husband', ' White', ' Male', 0, 0, 45, ' United-States', ' >50K')  ... displaying 10 of 32561 total bound parameter sets ...  (32559, 22, ' Private', 201490, ' HS-grad', 9, ' Never-married', ' Adm-clerical', ' Own-child', ' White', ' Male', 0, 0, 20, ' United-States', ' <=50K'), (32560, 52, ' Self-emp-inc', 287927, ' HS-grad', 9, ' Married-civ-spouse', ' Exec-managerial', ' Wife', ' White', ' Female', 15024, 0, 40, ' United-States', ' >50K'))\n",
      "2018-12-10 18:00:49,028 INFO sqlalchemy.engine.base.Engine COMMIT\n"
     ]
    }
   ],
   "source": [
    "engine = create_engine('sqlite:///sample',echo=True)\n",
    "df.to_sql('adult', engine)\n",
    "conn = engine.connect()"
   ]
  },
  {
   "cell_type": "markdown",
   "metadata": {},
   "source": [
    "Write two basic update queries"
   ]
  },
  {
   "cell_type": "code",
   "execution_count": 3,
   "metadata": {},
   "outputs": [
    {
     "name": "stdout",
     "output_type": "stream",
     "text": [
      "2018-12-10 18:01:11,317 INFO sqlalchemy.engine.base.Engine UPDATE adult SET income = '<30K' WHERE age=38 and education=' Bachelors' \n",
      "2018-12-10 18:01:11,323 INFO sqlalchemy.engine.base.Engine ()\n",
      "2018-12-10 18:01:11,468 INFO sqlalchemy.engine.base.Engine COMMIT\n",
      "<sqlalchemy.engine.result.ResultProxy object at 0x000001F460CCAE48>\n"
     ]
    }
   ],
   "source": [
    "#update query 1\n",
    "print(engine.execute('''UPDATE adult SET income = '<30K' WHERE age=38 and education=' Bachelors' '''))\n"
   ]
  },
  {
   "cell_type": "code",
   "execution_count": 5,
   "metadata": {},
   "outputs": [
    {
     "name": "stdout",
     "output_type": "stream",
     "text": [
      "2018-12-10 18:01:32,985 INFO sqlalchemy.engine.base.Engine SELECT * FROM adult WHERE age=38 and education=' Bachelors' and educationNum=13 LIMIT 5\n",
      "2018-12-10 18:01:32,992 INFO sqlalchemy.engine.base.Engine ()\n",
      "[(217, 38, ' Private', 182609, ' Bachelors', 13, ' Married-civ-spouse', ' Sales', ' Husband', ' White', ' Male', 0, 0, 50, ' Poland', '<30K'), (489, 38, ' Private', 91039, ' Bachelors', 13, ' Married-civ-spouse', ' Sales', ' Husband', ' White', ' Male', 15024, 0, 60, ' United-States', '<30K'), (520, 38, ' Self-emp-inc', 99146, ' Bachelors', 13, ' Married-civ-spouse', ' Exec-managerial', ' Husband', ' White', ' Male', 15024, 0, 80, ' United-States', '<30K'), (883, 38, ' Private', 95336, ' Bachelors', 13, ' Married-civ-spouse', ' Sales', ' Husband', ' White', ' Male', 0, 0, 50, ' United-States', '<30K'), (1207, 38, ' Private', 79619, ' Bachelors', 13, ' Married-civ-spouse', ' Sales', ' Husband', ' White', ' Male', 0, 0, 42, ' United-States', '<30K')]\n"
     ]
    }
   ],
   "source": [
    "#Result of update query 1\n",
    "print(engine.execute('''SELECT * FROM adult WHERE age=38 and education=' Bachelors' and educationNum=13 LIMIT 5''').fetchall())\n"
   ]
  },
  {
   "cell_type": "code",
   "execution_count": 7,
   "metadata": {},
   "outputs": [
    {
     "name": "stdout",
     "output_type": "stream",
     "text": [
      "2018-12-10 18:02:01,815 INFO sqlalchemy.engine.base.Engine UPDATE adult SET income = '<50K'\n",
      "WHERE age=39 and workclass=' Private' and fnlwgt=215646\n",
      "and education=' HS-grad' and educationNum=9\n"
     ]
    },
    {
     "name": "stderr",
     "output_type": "stream",
     "text": [
      "INFO:sqlalchemy.engine.base.Engine:UPDATE adult SET income = '<50K'\n",
      "WHERE age=39 and workclass=' Private' and fnlwgt=215646\n",
      "and education=' HS-grad' and educationNum=9\n"
     ]
    },
    {
     "name": "stdout",
     "output_type": "stream",
     "text": [
      "2018-12-10 18:02:01,831 INFO sqlalchemy.engine.base.Engine ()\n"
     ]
    },
    {
     "name": "stderr",
     "output_type": "stream",
     "text": [
      "INFO:sqlalchemy.engine.base.Engine:()\n"
     ]
    },
    {
     "name": "stdout",
     "output_type": "stream",
     "text": [
      "2018-12-10 18:02:01,913 INFO sqlalchemy.engine.base.Engine COMMIT\n"
     ]
    },
    {
     "name": "stderr",
     "output_type": "stream",
     "text": [
      "INFO:sqlalchemy.engine.base.Engine:COMMIT\n"
     ]
    },
    {
     "name": "stdout",
     "output_type": "stream",
     "text": [
      "<sqlalchemy.engine.result.ResultProxy object at 0x000001F4613CDA90>\n"
     ]
    }
   ],
   "source": [
    "#update query2\n",
    "print(engine.execute('''UPDATE adult SET income = '<50K'\n",
    "WHERE age=39 and workclass=' Private' and fnlwgt=215646\n",
    "and education=' HS-grad' and educationNum=9'''))\n"
   ]
  },
  {
   "cell_type": "code",
   "execution_count": 8,
   "metadata": {},
   "outputs": [
    {
     "name": "stdout",
     "output_type": "stream",
     "text": [
      "2018-12-10 18:02:19,328 INFO sqlalchemy.engine.base.Engine SELECT * FROM adult WHERE age=39 and workclass=' Private' and fnlwgt=215646\n",
      "and education=' HS-grad' and educationNum=9 LIMIT 5\n"
     ]
    },
    {
     "name": "stderr",
     "output_type": "stream",
     "text": [
      "INFO:sqlalchemy.engine.base.Engine:SELECT * FROM adult WHERE age=39 and workclass=' Private' and fnlwgt=215646\n",
      "and education=' HS-grad' and educationNum=9 LIMIT 5\n"
     ]
    },
    {
     "name": "stdout",
     "output_type": "stream",
     "text": [
      "2018-12-10 18:02:19,342 INFO sqlalchemy.engine.base.Engine ()\n"
     ]
    },
    {
     "name": "stderr",
     "output_type": "stream",
     "text": [
      "INFO:sqlalchemy.engine.base.Engine:()\n"
     ]
    },
    {
     "name": "stdout",
     "output_type": "stream",
     "text": [
      "[]\n"
     ]
    }
   ],
   "source": [
    "print(engine.execute('''SELECT * FROM adult WHERE age=39 and workclass=' Private' and fnlwgt=215646\n",
    "and education=' HS-grad' and educationNum=9 LIMIT 5''').fetchall())"
   ]
  },
  {
   "cell_type": "markdown",
   "metadata": {},
   "source": [
    "Write two basic delete queries"
   ]
  },
  {
   "cell_type": "code",
   "execution_count": 10,
   "metadata": {},
   "outputs": [
    {
     "name": "stdout",
     "output_type": "stream",
     "text": [
      "2018-12-10 18:03:33,605 INFO sqlalchemy.engine.base.Engine DELETE FROM adult WHERE age=39 and education=' Bachelors' \n"
     ]
    },
    {
     "name": "stderr",
     "output_type": "stream",
     "text": [
      "INFO:sqlalchemy.engine.base.Engine:DELETE FROM adult WHERE age=39 and education=' Bachelors' \n"
     ]
    },
    {
     "name": "stdout",
     "output_type": "stream",
     "text": [
      "2018-12-10 18:03:33,617 INFO sqlalchemy.engine.base.Engine ()\n"
     ]
    },
    {
     "name": "stderr",
     "output_type": "stream",
     "text": [
      "INFO:sqlalchemy.engine.base.Engine:()\n"
     ]
    },
    {
     "name": "stdout",
     "output_type": "stream",
     "text": [
      "2018-12-10 18:03:33,781 INFO sqlalchemy.engine.base.Engine COMMIT\n"
     ]
    },
    {
     "name": "stderr",
     "output_type": "stream",
     "text": [
      "INFO:sqlalchemy.engine.base.Engine:COMMIT\n"
     ]
    },
    {
     "name": "stdout",
     "output_type": "stream",
     "text": [
      "<sqlalchemy.engine.result.ResultProxy object at 0x000001F4613CDCC0>\n",
      "2018-12-10 18:03:34,238 INFO sqlalchemy.engine.base.Engine SELECT * FROM adult WHERE age=39 and education=' Bachelors' LIMIT 5\n"
     ]
    },
    {
     "name": "stderr",
     "output_type": "stream",
     "text": [
      "INFO:sqlalchemy.engine.base.Engine:SELECT * FROM adult WHERE age=39 and education=' Bachelors' LIMIT 5\n"
     ]
    },
    {
     "name": "stdout",
     "output_type": "stream",
     "text": [
      "2018-12-10 18:03:34,247 INFO sqlalchemy.engine.base.Engine ()\n"
     ]
    },
    {
     "name": "stderr",
     "output_type": "stream",
     "text": [
      "INFO:sqlalchemy.engine.base.Engine:()\n"
     ]
    },
    {
     "name": "stdout",
     "output_type": "stream",
     "text": [
      "[]\n"
     ]
    }
   ],
   "source": [
    "print(engine.execute('''DELETE FROM adult WHERE age=39 and education=' Bachelors' '''))\n",
    "\n",
    "print(engine.execute('''SELECT * FROM adult WHERE age=39 and education=' Bachelors' LIMIT 5''').fetchall())\n",
    "\n"
   ]
  },
  {
   "cell_type": "code",
   "execution_count": 11,
   "metadata": {},
   "outputs": [
    {
     "name": "stdout",
     "output_type": "stream",
     "text": [
      "2018-12-10 18:04:09,927 INFO sqlalchemy.engine.base.Engine DELETE FROM adult WHERE age=38 and workclass=' Private' and fnlwgt=215646\n",
      "and education=' HS-grad' and educationNum=9\n"
     ]
    },
    {
     "name": "stderr",
     "output_type": "stream",
     "text": [
      "INFO:sqlalchemy.engine.base.Engine:DELETE FROM adult WHERE age=38 and workclass=' Private' and fnlwgt=215646\n",
      "and education=' HS-grad' and educationNum=9\n"
     ]
    },
    {
     "name": "stdout",
     "output_type": "stream",
     "text": [
      "2018-12-10 18:04:09,939 INFO sqlalchemy.engine.base.Engine ()\n"
     ]
    },
    {
     "name": "stderr",
     "output_type": "stream",
     "text": [
      "INFO:sqlalchemy.engine.base.Engine:()\n"
     ]
    },
    {
     "name": "stdout",
     "output_type": "stream",
     "text": [
      "2018-12-10 18:04:10,032 INFO sqlalchemy.engine.base.Engine COMMIT\n"
     ]
    },
    {
     "name": "stderr",
     "output_type": "stream",
     "text": [
      "INFO:sqlalchemy.engine.base.Engine:COMMIT\n"
     ]
    },
    {
     "name": "stdout",
     "output_type": "stream",
     "text": [
      "<sqlalchemy.engine.result.ResultProxy object at 0x000001F4617F1FD0>\n",
      "2018-12-10 18:04:10,182 INFO sqlalchemy.engine.base.Engine SELECT * FROM adult WHERE age=38 and workclass=' Private' and fnlwgt=215646\n",
      "and education=' HS-grad' and educationNum=9 LIMIT 5\n"
     ]
    },
    {
     "name": "stderr",
     "output_type": "stream",
     "text": [
      "INFO:sqlalchemy.engine.base.Engine:SELECT * FROM adult WHERE age=38 and workclass=' Private' and fnlwgt=215646\n",
      "and education=' HS-grad' and educationNum=9 LIMIT 5\n"
     ]
    },
    {
     "name": "stdout",
     "output_type": "stream",
     "text": [
      "2018-12-10 18:04:10,194 INFO sqlalchemy.engine.base.Engine ()\n"
     ]
    },
    {
     "name": "stderr",
     "output_type": "stream",
     "text": [
      "INFO:sqlalchemy.engine.base.Engine:()\n"
     ]
    },
    {
     "name": "stdout",
     "output_type": "stream",
     "text": [
      "[]\n"
     ]
    }
   ],
   "source": [
    "print(engine.execute('''DELETE FROM adult WHERE age=38 and workclass=' Private' and fnlwgt=215646\n",
    "and education=' HS-grad' and educationNum=9'''))\n",
    "\n",
    "print(engine.execute('''SELECT * FROM adult WHERE age=38 and workclass=' Private' and fnlwgt=215646\n",
    "and education=' HS-grad' and educationNum=9 LIMIT 5''').fetchall())\n"
   ]
  },
  {
   "cell_type": "markdown",
   "metadata": {},
   "source": [
    "Write two filter queries"
   ]
  },
  {
   "cell_type": "code",
   "execution_count": 12,
   "metadata": {},
   "outputs": [
    {
     "name": "stdout",
     "output_type": "stream",
     "text": [
      "2018-12-10 18:04:37,496 INFO sqlalchemy.engine.base.Engine SELECT * FROM adult WHERE race LIKE ' B%' LIMIT 10\n"
     ]
    },
    {
     "name": "stderr",
     "output_type": "stream",
     "text": [
      "INFO:sqlalchemy.engine.base.Engine:SELECT * FROM adult WHERE race LIKE ' B%' LIMIT 10\n"
     ]
    },
    {
     "name": "stdout",
     "output_type": "stream",
     "text": [
      "2018-12-10 18:04:37,510 INFO sqlalchemy.engine.base.Engine ()\n"
     ]
    },
    {
     "name": "stderr",
     "output_type": "stream",
     "text": [
      "INFO:sqlalchemy.engine.base.Engine:()\n"
     ]
    },
    {
     "name": "stdout",
     "output_type": "stream",
     "text": [
      "[(3, 53, ' Private', 234721, ' 11th', 7, ' Married-civ-spouse', ' Handlers-cleaners', ' Husband', ' Black', ' Male', 0, 0, 40, ' United-States', ' <=50K'), (4, 28, ' Private', 338409, ' Bachelors', 13, ' Married-civ-spouse', ' Prof-specialty', ' Wife', ' Black', ' Female', 0, 0, 40, ' Cuba', ' <=50K'), (6, 49, ' Private', 160187, ' 9th', 5, ' Married-spouse-absent', ' Other-service', ' Not-in-family', ' Black', ' Female', 0, 0, 16, ' Jamaica', ' <=50K'), (10, 37, ' Private', 280464, ' Some-college', 10, ' Married-civ-spouse', ' Exec-managerial', ' Husband', ' Black', ' Male', 0, 0, 80, ' United-States', ' >50K'), (13, 32, ' Private', 205019, ' Assoc-acdm', 12, ' Never-married', ' Sales', ' Not-in-family', ' Black', ' Male', 0, 0, 50, ' United-States', ' <=50K'), (21, 54, ' Private', 302146, ' HS-grad', 9, ' Separated', ' Other-service', ' Unmarried', ' Black', ' Female', 0, 0, 20, ' United-States', ' <=50K'), (22, 35, ' Federal-gov', 76845, ' 9th', 5, ' Married-civ-spouse', ' Farming-fishing', ' Husband', ' Black', ' Male', 0, 0, 40, ' United-States', ' <=50K'), (31, 20, ' Private', 266015, ' Some-college', 10, ' Never-married', ' Sales', ' Own-child', ' Black', ' Male', 0, 0, 44, ' United-States', ' <=50K'), (34, 22, ' State-gov', 311512, ' Some-college', 10, ' Married-civ-spouse', ' Other-service', ' Husband', ' Black', ' Male', 0, 0, 15, ' United-States', ' <=50K'), (45, 57, ' Federal-gov', 337895, ' Bachelors', 13, ' Married-civ-spouse', ' Prof-specialty', ' Husband', ' Black', ' Male', 0, 0, 40, ' United-States', ' >50K')]\n",
      "2018-12-10 18:04:37,533 INFO sqlalchemy.engine.base.Engine SELECT * FROM adult WHERE age  IN(20, 40) LIMIT 5\n"
     ]
    },
    {
     "name": "stderr",
     "output_type": "stream",
     "text": [
      "INFO:sqlalchemy.engine.base.Engine:SELECT * FROM adult WHERE age  IN(20, 40) LIMIT 5\n"
     ]
    },
    {
     "name": "stdout",
     "output_type": "stream",
     "text": [
      "2018-12-10 18:04:37,544 INFO sqlalchemy.engine.base.Engine ()\n"
     ]
    },
    {
     "name": "stderr",
     "output_type": "stream",
     "text": [
      "INFO:sqlalchemy.engine.base.Engine:()\n"
     ]
    },
    {
     "name": "stdout",
     "output_type": "stream",
     "text": [
      "[(14, 40, ' Private', 121772, ' Assoc-voc', 11, ' Married-civ-spouse', ' Craft-repair', ' Husband', ' Asian-Pac-Islander', ' Male', 0, 0, 40, ' ?', ' >50K'), (20, 40, ' Private', 193524, ' Doctorate', 16, ' Married-civ-spouse', ' Prof-specialty', ' Husband', ' White', ' Male', 0, 0, 60, ' United-States', ' >50K'), (31, 20, ' Private', 266015, ' Some-college', 10, ' Never-married', ' Sales', ' Own-child', ' Black', ' Male', 0, 0, 44, ' United-States', ' <=50K'), (76, 40, ' Private', 32214, ' Assoc-acdm', 12, ' Married-civ-spouse', ' Adm-clerical', ' Husband', ' White', ' Male', 0, 0, 40, ' United-States', ' <=50K'), (103, 20, ' Private', 188300, ' Some-college', 10, ' Never-married', ' Tech-support', ' Own-child', ' White', ' Female', 0, 0, 40, ' United-States', ' <=50K')]\n"
     ]
    }
   ],
   "source": [
    "#Filter queries using LIKE\n",
    "print(engine.execute('''SELECT * FROM adult WHERE race LIKE ' B%' LIMIT 10''').fetchall())\n",
    "\n",
    "#Filter queries using IN\n",
    "print(engine.execute('''SELECT * FROM adult WHERE age  IN(20, 40) LIMIT 5''').fetchall())"
   ]
  },
  {
   "cell_type": "markdown",
   "metadata": {},
   "source": [
    "Write two function queries"
   ]
  },
  {
   "cell_type": "code",
   "execution_count": 14,
   "metadata": {},
   "outputs": [
    {
     "name": "stdout",
     "output_type": "stream",
     "text": [
      "2018-12-10 18:06:20,569 INFO sqlalchemy.engine.base.Engine SELECT SUM(education) FROM adult WHERE sex==\"Male\" LIMIT 5\n"
     ]
    },
    {
     "name": "stderr",
     "output_type": "stream",
     "text": [
      "INFO:sqlalchemy.engine.base.Engine:SELECT SUM(education) FROM adult WHERE sex==\"Male\" LIMIT 5\n"
     ]
    },
    {
     "name": "stdout",
     "output_type": "stream",
     "text": [
      "2018-12-10 18:06:20,582 INFO sqlalchemy.engine.base.Engine ()\n"
     ]
    },
    {
     "name": "stderr",
     "output_type": "stream",
     "text": [
      "INFO:sqlalchemy.engine.base.Engine:()\n"
     ]
    },
    {
     "name": "stdout",
     "output_type": "stream",
     "text": [
      "[(None,)]\n",
      "2018-12-10 18:06:20,660 INFO sqlalchemy.engine.base.Engine SELECT education,upper(education) FROM adult WHERE sex LIKE '%male%' LIMIT 10\n"
     ]
    },
    {
     "name": "stderr",
     "output_type": "stream",
     "text": [
      "INFO:sqlalchemy.engine.base.Engine:SELECT education,upper(education) FROM adult WHERE sex LIKE '%male%' LIMIT 10\n"
     ]
    },
    {
     "name": "stdout",
     "output_type": "stream",
     "text": [
      "2018-12-10 18:06:20,672 INFO sqlalchemy.engine.base.Engine ()\n"
     ]
    },
    {
     "name": "stderr",
     "output_type": "stream",
     "text": [
      "INFO:sqlalchemy.engine.base.Engine:()\n"
     ]
    },
    {
     "name": "stdout",
     "output_type": "stream",
     "text": [
      "[(' Bachelors', ' BACHELORS'), (' 11th', ' 11TH'), (' Bachelors', ' BACHELORS'), (' Masters', ' MASTERS'), (' 9th', ' 9TH'), (' HS-grad', ' HS-GRAD'), (' Masters', ' MASTERS'), (' Bachelors', ' BACHELORS'), (' Some-college', ' SOME-COLLEGE'), (' Bachelors', ' BACHELORS')]\n"
     ]
    }
   ],
   "source": [
    "#using SUM function\n",
    "print(engine.execute('''SELECT SUM(education) FROM adult WHERE sex==\"Male\" LIMIT 5''').fetchall())\n",
    "\n",
    "#using Upper function\n",
    "print(engine.execute('''SELECT education,upper(education) FROM adult WHERE sex LIKE '%male%' LIMIT 10''').fetchall())"
   ]
  },
  {
   "cell_type": "code",
   "execution_count": null,
   "metadata": {
    "collapsed": true
   },
   "outputs": [],
   "source": []
  }
 ],
 "metadata": {
  "kernelspec": {
   "display_name": "Python 3",
   "language": "python",
   "name": "python3"
  },
  "language_info": {
   "codemirror_mode": {
    "name": "ipython",
    "version": 3
   },
   "file_extension": ".py",
   "mimetype": "text/x-python",
   "name": "python",
   "nbconvert_exporter": "python",
   "pygments_lexer": "ipython3",
   "version": "3.6.2"
  }
 },
 "nbformat": 4,
 "nbformat_minor": 2
}
